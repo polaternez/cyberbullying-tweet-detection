{
 "cells": [
  {
   "cell_type": "markdown",
   "metadata": {
    "id": "freIscgt1__C"
   },
   "source": [
    "# Setup"
   ]
  },
  {
   "cell_type": "code",
   "execution_count": 1,
   "metadata": {
    "executionInfo": {
     "elapsed": 2248,
     "status": "ok",
     "timestamp": 1669994402417,
     "user": {
      "displayName": "Savaş Demiradalı",
      "userId": "09028353773699495497"
     },
     "user_tz": -180
    },
    "id": "CBC0XRTBXg9x"
   },
   "outputs": [
    {
     "name": "stderr",
     "output_type": "stream",
     "text": [
      "[nltk_data] Downloading package wordnet to\n",
      "[nltk_data]     C:\\Users\\Polat\\AppData\\Roaming\\nltk_data...\n",
      "[nltk_data]   Package wordnet is already up-to-date!\n",
      "[nltk_data] Downloading package omw-1.4 to\n",
      "[nltk_data]     C:\\Users\\Polat\\AppData\\Roaming\\nltk_data...\n",
      "[nltk_data]   Package omw-1.4 is already up-to-date!\n",
      "[nltk_data] Downloading package stopwords to\n",
      "[nltk_data]     C:\\Users\\Polat\\AppData\\Roaming\\nltk_data...\n",
      "[nltk_data]   Package stopwords is already up-to-date!\n"
     ]
    }
   ],
   "source": [
    "import pandas as pd\n",
    "pd.set_option(\"display.max_colwidth\", None)\n",
    "\n",
    "import text_cleaning as tc # custom text cleaning script"
   ]
  },
  {
   "cell_type": "markdown",
   "metadata": {
    "id": "c_NaWbAJ9T0P"
   },
   "source": [
    "# Load data\n",
    "We use the \"cyberbullying_tweets_v2.csv\" dataset created by under-sampling the <a href=\"https://www.kaggle.com/datasets/andrewmvd/cyberbullying-classification\">Cyberbullying Classification</a> dataset from Kaggle\n",
    "\n",
    "## Content\n",
    "\n",
    "* **tweet_text** - Text of the tweet\n",
    "* **cyberbullying_type** - Type of cyberbullying harassment.\n"
   ]
  },
  {
   "cell_type": "code",
   "execution_count": 2,
   "metadata": {
    "colab": {
     "base_uri": "https://localhost:8080/",
     "height": 572
    },
    "executionInfo": {
     "elapsed": 17,
     "status": "ok",
     "timestamp": 1669994402420,
     "user": {
      "displayName": "Savaş Demiradalı",
      "userId": "09028353773699495497"
     },
     "user_tz": -180
    },
    "id": "ROPfBIilAxI9",
    "outputId": "704d716f-9738-4a98-aaa1-15fbdea6fbba"
   },
   "outputs": [
    {
     "data": {
      "text/html": [
       "<div>\n",
       "<style scoped>\n",
       "    .dataframe tbody tr th:only-of-type {\n",
       "        vertical-align: middle;\n",
       "    }\n",
       "\n",
       "    .dataframe tbody tr th {\n",
       "        vertical-align: top;\n",
       "    }\n",
       "\n",
       "    .dataframe thead th {\n",
       "        text-align: right;\n",
       "    }\n",
       "</style>\n",
       "<table border=\"1\" class=\"dataframe\">\n",
       "  <thead>\n",
       "    <tr style=\"text-align: right;\">\n",
       "      <th></th>\n",
       "      <th>tweet_text</th>\n",
       "      <th>cyberbullying_type</th>\n",
       "    </tr>\n",
       "  </thead>\n",
       "  <tbody>\n",
       "    <tr>\n",
       "      <th>0</th>\n",
       "      <td>Where. Is. The. Logic? \"@kenny_Gurl: @BrendanRochford @YesYoureRacist all niggers smell like shit and have dumb nigger names fuck niggers\"</td>\n",
       "      <td>ethnicity</td>\n",
       "    </tr>\n",
       "    <tr>\n",
       "      <th>1</th>\n",
       "      <td>Females is always used as a replacement for bitch, whenever you see niggas or even women using females its in a negative connotation so lately I’ll tell niggas if they wanna call me a bitch they should just say that</td>\n",
       "      <td>gender</td>\n",
       "    </tr>\n",
       "    <tr>\n",
       "      <th>2</th>\n",
       "      <td>@slagkick frost for now. still learning how to play. for bgs, seems to work well.</td>\n",
       "      <td>not_cyberbullying</td>\n",
       "    </tr>\n",
       "    <tr>\n",
       "      <th>3</th>\n",
       "      <td>Which will end first: #mkr or Tony Abbott as PM?</td>\n",
       "      <td>not_cyberbullying</td>\n",
       "    </tr>\n",
       "    <tr>\n",
       "      <th>4</th>\n",
       "      <td>@JWYoder ouch.</td>\n",
       "      <td>other_cyberbullying</td>\n",
       "    </tr>\n",
       "    <tr>\n",
       "      <th>...</th>\n",
       "      <td>...</td>\n",
       "      <td>...</td>\n",
       "    </tr>\n",
       "    <tr>\n",
       "      <th>15932</th>\n",
       "      <td>At least you understand that woman != conventionally feminine @smalltownAbbey I would love to see all women embrace femininity. #notsexist</td>\n",
       "      <td>not_cyberbullying</td>\n",
       "    </tr>\n",
       "    <tr>\n",
       "      <th>15933</th>\n",
       "      <td>@Tidal_Salty you have a lot of balls liking this. You are my nigger and tygers dumb ass white friend, you are the only person to come close to the level of crust that man has. Fuck you.</td>\n",
       "      <td>ethnicity</td>\n",
       "    </tr>\n",
       "    <tr>\n",
       "      <th>15934</th>\n",
       "      <td>Lets get one thing straight, free thinking means saying shit like obama did a horrible job and not identifying with the identity politics and the reality tv shows that make black and colored folks look bad. Pretending racism doesnt exist especially in America makes u a coward</td>\n",
       "      <td>ethnicity</td>\n",
       "    </tr>\n",
       "    <tr>\n",
       "      <th>15935</th>\n",
       "      <td>@AbuSaalihah1 @rConflictNews Hope we can get the two not working for the BBC back.</td>\n",
       "      <td>not_cyberbullying</td>\n",
       "    </tr>\n",
       "    <tr>\n",
       "      <th>15936</th>\n",
       "      <td>The girl who bullied me my entire high school life popped up on my tiktok explore and now I’m pissed that she has fans but no one knows that at 14-17 y/o (me )she would harrasss me to kill my self :-///</td>\n",
       "      <td>age</td>\n",
       "    </tr>\n",
       "  </tbody>\n",
       "</table>\n",
       "<p>15937 rows × 2 columns</p>\n",
       "</div>"
      ],
      "text/plain": [
       "                                                                                                                                                                                                                                                                                 tweet_text  \\\n",
       "0                                                                                                                                                Where. Is. The. Logic? \"@kenny_Gurl: @BrendanRochford @YesYoureRacist all niggers smell like shit and have dumb nigger names fuck niggers\"   \n",
       "1                                                                   Females is always used as a replacement for bitch, whenever you see niggas or even women using females its in a negative connotation so lately I’ll tell niggas if they wanna call me a bitch they should just say that   \n",
       "2                                                                                                                                                                                                         @slagkick frost for now. still learning how to play. for bgs, seems to work well.   \n",
       "3                                                                                                                                                                                                                                          Which will end first: #mkr or Tony Abbott as PM?   \n",
       "4                                                                                                                                                                                                                                                                            @JWYoder ouch.   \n",
       "...                                                                                                                                                                                                                                                                                     ...   \n",
       "15932                                                                                                                                            At least you understand that woman != conventionally feminine @smalltownAbbey I would love to see all women embrace femininity. #notsexist   \n",
       "15933                                                                                             @Tidal_Salty you have a lot of balls liking this. You are my nigger and tygers dumb ass white friend, you are the only person to come close to the level of crust that man has. Fuck you.   \n",
       "15934  Lets get one thing straight, free thinking means saying shit like obama did a horrible job and not identifying with the identity politics and the reality tv shows that make black and colored folks look bad. Pretending racism doesnt exist especially in America makes u a coward   \n",
       "15935                                                                                                                                                                                                    @AbuSaalihah1 @rConflictNews Hope we can get the two not working for the BBC back.   \n",
       "15936                                                                            The girl who bullied me my entire high school life popped up on my tiktok explore and now I’m pissed that she has fans but no one knows that at 14-17 y/o (me )she would harrasss me to kill my self :-///   \n",
       "\n",
       "        cyberbullying_type  \n",
       "0                ethnicity  \n",
       "1                   gender  \n",
       "2        not_cyberbullying  \n",
       "3        not_cyberbullying  \n",
       "4      other_cyberbullying  \n",
       "...                    ...  \n",
       "15932    not_cyberbullying  \n",
       "15933            ethnicity  \n",
       "15934            ethnicity  \n",
       "15935    not_cyberbullying  \n",
       "15936                  age  \n",
       "\n",
       "[15937 rows x 2 columns]"
      ]
     },
     "execution_count": 2,
     "metadata": {},
     "output_type": "execute_result"
    }
   ],
   "source": [
    "tweets_df = pd.read_csv(\"cyberbullying_tweets_v2.csv\")\n",
    "tweets_df"
   ]
  },
  {
   "cell_type": "code",
   "execution_count": 3,
   "metadata": {
    "colab": {
     "base_uri": "https://localhost:8080/"
    },
    "executionInfo": {
     "elapsed": 446,
     "status": "ok",
     "timestamp": 1669994402853,
     "user": {
      "displayName": "Savaş Demiradalı",
      "userId": "09028353773699495497"
     },
     "user_tz": -180
    },
    "id": "melRSFkF1dRj",
    "outputId": "20b4a095-c3bb-476a-ca9f-246a80732998"
   },
   "outputs": [
    {
     "name": "stdout",
     "output_type": "stream",
     "text": [
      "<class 'pandas.core.frame.DataFrame'>\n",
      "RangeIndex: 15937 entries, 0 to 15936\n",
      "Data columns (total 2 columns):\n",
      " #   Column              Non-Null Count  Dtype \n",
      "---  ------              --------------  ----- \n",
      " 0   tweet_text          15937 non-null  object\n",
      " 1   cyberbullying_type  15937 non-null  object\n",
      "dtypes: object(2)\n",
      "memory usage: 249.1+ KB\n"
     ]
    }
   ],
   "source": [
    "tweets_df.info()"
   ]
  },
  {
   "cell_type": "code",
   "execution_count": 4,
   "metadata": {
    "colab": {
     "base_uri": "https://localhost:8080/"
    },
    "executionInfo": {
     "elapsed": 10,
     "status": "ok",
     "timestamp": 1669994402853,
     "user": {
      "displayName": "Savaş Demiradalı",
      "userId": "09028353773699495497"
     },
     "user_tz": -180
    },
    "id": "YjTPSZWGWSwV",
    "outputId": "bda3affd-5165-4a43-acd7-877bd3ef4cee"
   },
   "outputs": [
    {
     "data": {
      "text/plain": [
       "tweet_text            0\n",
       "cyberbullying_type    0\n",
       "dtype: int64"
      ]
     },
     "execution_count": 4,
     "metadata": {},
     "output_type": "execute_result"
    }
   ],
   "source": [
    "tweets_df.isnull().sum()"
   ]
  },
  {
   "cell_type": "code",
   "execution_count": 5,
   "metadata": {
    "colab": {
     "base_uri": "https://localhost:8080/",
     "height": 373
    },
    "executionInfo": {
     "elapsed": 666,
     "status": "ok",
     "timestamp": 1669994403512,
     "user": {
      "displayName": "Savaş Demiradalı",
      "userId": "09028353773699495497"
     },
     "user_tz": -180
    },
    "id": "uL-r2-KRzHIC",
    "outputId": "002e821c-9822-4f8d-9b47-d79fa15a9f1c"
   },
   "outputs": [
    {
     "data": {
      "text/plain": [
       "<Axes: >"
      ]
     },
     "execution_count": 5,
     "metadata": {},
     "output_type": "execute_result"
    },
    {
     "data": {
      "image/png": "[encoded data removed]",
      "text/plain": [
       "<Figure size 640x480 with 1 Axes>"
      ]
     },
     "metadata": {},
     "output_type": "display_data"
    }
   ],
   "source": [
    "tweets_df[\"cyberbullying_type\"].hist(xrot=90)"
   ]
  },
  {
   "cell_type": "markdown",
   "metadata": {
    "id": "mSL-a_y2Ledz"
   },
   "source": [
    "# Data cleaning"
   ]
  },
  {
   "cell_type": "code",
   "execution_count": 6,
   "metadata": {
    "executionInfo": {
     "elapsed": 9,
     "status": "ok",
     "timestamp": 1669994403513,
     "user": {
      "displayName": "Savaş Demiradalı",
      "userId": "09028353773699495497"
     },
     "user_tz": -180
    },
    "id": "n1W68d-6BNvt"
   },
   "outputs": [],
   "source": [
    "# Is it cyberbullying?\n",
    "tweets_df[\"is_cyberbullying\"] = [0 if x==\"not_cyberbullying\" else 1 for x in tweets_df[\"cyberbullying_type\"]]"
   ]
  },
  {
   "cell_type": "code",
   "execution_count": 7,
   "metadata": {
    "executionInfo": {
     "elapsed": 37230,
     "status": "ok",
     "timestamp": 1669994442235,
     "user": {
      "displayName": "Savaş Demiradalı",
      "userId": "09028353773699495497"
     },
     "user_tz": -180
    },
    "id": "cUSJwmVT1nyq"
   },
   "outputs": [],
   "source": [
    "# Clean tweet text\n",
    "tweets_df[\"clean_text\"] = tweets_df[\"tweet_text\"].apply(tc.clean_data)"
   ]
  },
  {
   "cell_type": "code",
   "execution_count": 8,
   "metadata": {
    "colab": {
     "base_uri": "https://localhost:8080/",
     "height": 693
    },
    "executionInfo": {
     "elapsed": 43,
     "status": "ok",
     "timestamp": 1669994442237,
     "user": {
      "displayName": "Savaş Demiradalı",
      "userId": "09028353773699495497"
     },
     "user_tz": -180
    },
    "id": "ksSqUlkq2Nb9",
    "outputId": "dd626b39-e76e-4e21-8481-08c4b8db718e"
   },
   "outputs": [
    {
     "data": {
      "text/html": [
       "<div>\n",
       "<style scoped>\n",
       "    .dataframe tbody tr th:only-of-type {\n",
       "        vertical-align: middle;\n",
       "    }\n",
       "\n",
       "    .dataframe tbody tr th {\n",
       "        vertical-align: top;\n",
       "    }\n",
       "\n",
       "    .dataframe thead th {\n",
       "        text-align: right;\n",
       "    }\n",
       "</style>\n",
       "<table border=\"1\" class=\"dataframe\">\n",
       "  <thead>\n",
       "    <tr style=\"text-align: right;\">\n",
       "      <th></th>\n",
       "      <th>tweet_text</th>\n",
       "      <th>clean_text</th>\n",
       "    </tr>\n",
       "  </thead>\n",
       "  <tbody>\n",
       "    <tr>\n",
       "      <th>0</th>\n",
       "      <td>Where. Is. The. Logic? \"@kenny_Gurl: @BrendanRochford @YesYoureRacist all niggers smell like shit and have dumb nigger names fuck niggers\"</td>\n",
       "      <td>logic nigger smell like shit dumb nigger name fuck nigger</td>\n",
       "    </tr>\n",
       "    <tr>\n",
       "      <th>1</th>\n",
       "      <td>Females is always used as a replacement for bitch, whenever you see niggas or even women using females its in a negative connotation so lately I’ll tell niggas if they wanna call me a bitch they should just say that</td>\n",
       "      <td>female always used replacement bitch whenever see nigga even woman using female negative connotation lately tell nigga wanna call bitch say</td>\n",
       "    </tr>\n",
       "    <tr>\n",
       "      <th>2</th>\n",
       "      <td>@slagkick frost for now. still learning how to play. for bgs, seems to work well.</td>\n",
       "      <td>frost still learning play bgs seems work well</td>\n",
       "    </tr>\n",
       "    <tr>\n",
       "      <th>3</th>\n",
       "      <td>Which will end first: #mkr or Tony Abbott as PM?</td>\n",
       "      <td>end first #mkr tony abbott pm</td>\n",
       "    </tr>\n",
       "    <tr>\n",
       "      <th>4</th>\n",
       "      <td>@JWYoder ouch.</td>\n",
       "      <td>ouch</td>\n",
       "    </tr>\n",
       "    <tr>\n",
       "      <th>...</th>\n",
       "      <td>...</td>\n",
       "      <td>...</td>\n",
       "    </tr>\n",
       "    <tr>\n",
       "      <th>15932</th>\n",
       "      <td>At least you understand that woman != conventionally feminine @smalltownAbbey I would love to see all women embrace femininity. #notsexist</td>\n",
       "      <td>least understand woman conventionally feminine would love see woman embrace femininity #notsexist</td>\n",
       "    </tr>\n",
       "    <tr>\n",
       "      <th>15933</th>\n",
       "      <td>@Tidal_Salty you have a lot of balls liking this. You are my nigger and tygers dumb ass white friend, you are the only person to come close to the level of crust that man has. Fuck you.</td>\n",
       "      <td>lot ball liking nigger tygers dumb as white friend person come close level crust man fuck</td>\n",
       "    </tr>\n",
       "    <tr>\n",
       "      <th>15934</th>\n",
       "      <td>Lets get one thing straight, free thinking means saying shit like obama did a horrible job and not identifying with the identity politics and the reality tv shows that make black and colored folks look bad. Pretending racism doesnt exist especially in America makes u a coward</td>\n",
       "      <td>let get one thing straight free thinking mean saying shit like obama horrible job identifying identity politics reality tv show make black colored folk look bad pretending racism doesnt exist especially america make u coward</td>\n",
       "    </tr>\n",
       "    <tr>\n",
       "      <th>15935</th>\n",
       "      <td>@AbuSaalihah1 @rConflictNews Hope we can get the two not working for the BBC back.</td>\n",
       "      <td>hope get two working bbc back</td>\n",
       "    </tr>\n",
       "    <tr>\n",
       "      <th>15936</th>\n",
       "      <td>The girl who bullied me my entire high school life popped up on my tiktok explore and now I’m pissed that she has fans but no one knows that at 14-17 y/o (me )she would harrasss me to kill my self :-///</td>\n",
       "      <td>girl bullied entire high school life popped tiktok explore pissed fan one know would harrasss kill self</td>\n",
       "    </tr>\n",
       "  </tbody>\n",
       "</table>\n",
       "<p>15937 rows × 2 columns</p>\n",
       "</div>"
      ],
      "text/plain": [
       "                                                                                                                                                                                                                                                                                 tweet_text  \\\n",
       "0                                                                                                                                                Where. Is. The. Logic? \"@kenny_Gurl: @BrendanRochford @YesYoureRacist all niggers smell like shit and have dumb nigger names fuck niggers\"   \n",
       "1                                                                   Females is always used as a replacement for bitch, whenever you see niggas or even women using females its in a negative connotation so lately I’ll tell niggas if they wanna call me a bitch they should just say that   \n",
       "2                                                                                                                                                                                                         @slagkick frost for now. still learning how to play. for bgs, seems to work well.   \n",
       "3                                                                                                                                                                                                                                          Which will end first: #mkr or Tony Abbott as PM?   \n",
       "4                                                                                                                                                                                                                                                                            @JWYoder ouch.   \n",
       "...                                                                                                                                                                                                                                                                                     ...   \n",
       "15932                                                                                                                                            At least you understand that woman != conventionally feminine @smalltownAbbey I would love to see all women embrace femininity. #notsexist   \n",
       "15933                                                                                             @Tidal_Salty you have a lot of balls liking this. You are my nigger and tygers dumb ass white friend, you are the only person to come close to the level of crust that man has. Fuck you.   \n",
       "15934  Lets get one thing straight, free thinking means saying shit like obama did a horrible job and not identifying with the identity politics and the reality tv shows that make black and colored folks look bad. Pretending racism doesnt exist especially in America makes u a coward   \n",
       "15935                                                                                                                                                                                                    @AbuSaalihah1 @rConflictNews Hope we can get the two not working for the BBC back.   \n",
       "15936                                                                            The girl who bullied me my entire high school life popped up on my tiktok explore and now I’m pissed that she has fans but no one knows that at 14-17 y/o (me )she would harrasss me to kill my self :-///   \n",
       "\n",
       "                                                                                                                                                                                                                             clean_text  \n",
       "0                                                                                                                                                                             logic nigger smell like shit dumb nigger name fuck nigger  \n",
       "1                                                                                           female always used replacement bitch whenever see nigga even woman using female negative connotation lately tell nigga wanna call bitch say  \n",
       "2                                                                                                                                                                                         frost still learning play bgs seems work well  \n",
       "3                                                                                                                                                                                                         end first #mkr tony abbott pm  \n",
       "4                                                                                                                                                                                                                                  ouch  \n",
       "...                                                                                                                                                                                                                                 ...  \n",
       "15932                                                                                                                                 least understand woman conventionally feminine would love see woman embrace femininity #notsexist  \n",
       "15933                                                                                                                                         lot ball liking nigger tygers dumb as white friend person come close level crust man fuck  \n",
       "15934  let get one thing straight free thinking mean saying shit like obama horrible job identifying identity politics reality tv show make black colored folk look bad pretending racism doesnt exist especially america make u coward  \n",
       "15935                                                                                                                                                                                                     hope get two working bbc back  \n",
       "15936                                                                                                                           girl bullied entire high school life popped tiktok explore pissed fan one know would harrasss kill self  \n",
       "\n",
       "[15937 rows x 2 columns]"
      ]
     },
     "execution_count": 8,
     "metadata": {},
     "output_type": "execute_result"
    }
   ],
   "source": [
    "tweets_df[['tweet_text', 'clean_text']]"
   ]
  },
  {
   "cell_type": "code",
   "execution_count": 9,
   "metadata": {
    "id": "NK6U1VvibOaC"
   },
   "outputs": [],
   "source": [
    "# save clean dataset\n",
    "tweets_df[['clean_text', 'is_cyberbullying']].to_csv(\"cleaned_tweets.csv\", index=False)"
   ]
  },
  {
   "cell_type": "code",
   "execution_count": null,
   "metadata": {},
   "outputs": [],
   "source": []
  }
 ],
 "metadata": {
  "colab": {
   "authorship_tag": "ABX9TyMwmUgBWuzc9wGZ0b2P1jm1",
   "provenance": [],
   "toc_visible": true
  },
  "kernelspec": {
   "display_name": "Python 3 (ipykernel)",
   "language": "python",
   "name": "python3"
  },
  "language_info": {
   "codemirror_mode": {
    "name": "ipython",
    "version": 3
   },
   "file_extension": ".py",
   "mimetype": "text/x-python",
   "name": "python",
   "nbconvert_exporter": "python",
   "pygments_lexer": "ipython3",
   "version": "3.10.13"
  }
 },
 "nbformat": 4,
 "nbformat_minor": 1
}
